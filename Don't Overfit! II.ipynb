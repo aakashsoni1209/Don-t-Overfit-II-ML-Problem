{
 "cells": [
  {
   "cell_type": "markdown",
   "metadata": {},
   "source": [
    "## Reading the data"
   ]
  },
  {
   "cell_type": "code",
   "execution_count": 1,
   "metadata": {},
   "outputs": [],
   "source": [
    "#import necessary library\n",
    "import numpy as np\n",
    "import pandas as pd"
   ]
  },
  {
   "cell_type": "code",
   "execution_count": 2,
   "metadata": {},
   "outputs": [],
   "source": [
    "train = pd.read_csv('train.csv')\n",
    "test = pd.read_csv('test.csv')"
   ]
  },
  {
   "cell_type": "code",
   "execution_count": 3,
   "metadata": {},
   "outputs": [
    {
     "data": {
      "text/html": [
       "<div>\n",
       "<style scoped>\n",
       "    .dataframe tbody tr th:only-of-type {\n",
       "        vertical-align: middle;\n",
       "    }\n",
       "\n",
       "    .dataframe tbody tr th {\n",
       "        vertical-align: top;\n",
       "    }\n",
       "\n",
       "    .dataframe thead th {\n",
       "        text-align: right;\n",
       "    }\n",
       "</style>\n",
       "<table border=\"1\" class=\"dataframe\">\n",
       "  <thead>\n",
       "    <tr style=\"text-align: right;\">\n",
       "      <th></th>\n",
       "      <th>id</th>\n",
       "      <th>target</th>\n",
       "      <th>0</th>\n",
       "      <th>1</th>\n",
       "      <th>2</th>\n",
       "      <th>3</th>\n",
       "      <th>4</th>\n",
       "      <th>5</th>\n",
       "      <th>6</th>\n",
       "      <th>7</th>\n",
       "      <th>...</th>\n",
       "      <th>290</th>\n",
       "      <th>291</th>\n",
       "      <th>292</th>\n",
       "      <th>293</th>\n",
       "      <th>294</th>\n",
       "      <th>295</th>\n",
       "      <th>296</th>\n",
       "      <th>297</th>\n",
       "      <th>298</th>\n",
       "      <th>299</th>\n",
       "    </tr>\n",
       "  </thead>\n",
       "  <tbody>\n",
       "    <tr>\n",
       "      <th>0</th>\n",
       "      <td>0</td>\n",
       "      <td>1.0</td>\n",
       "      <td>-1.067</td>\n",
       "      <td>-1.114</td>\n",
       "      <td>-0.616</td>\n",
       "      <td>0.376</td>\n",
       "      <td>1.090</td>\n",
       "      <td>0.467</td>\n",
       "      <td>-0.422</td>\n",
       "      <td>0.460</td>\n",
       "      <td>...</td>\n",
       "      <td>0.220</td>\n",
       "      <td>-0.339</td>\n",
       "      <td>0.254</td>\n",
       "      <td>-0.179</td>\n",
       "      <td>0.352</td>\n",
       "      <td>0.125</td>\n",
       "      <td>0.347</td>\n",
       "      <td>0.436</td>\n",
       "      <td>0.958</td>\n",
       "      <td>-0.824</td>\n",
       "    </tr>\n",
       "    <tr>\n",
       "      <th>1</th>\n",
       "      <td>1</td>\n",
       "      <td>0.0</td>\n",
       "      <td>-0.831</td>\n",
       "      <td>0.271</td>\n",
       "      <td>1.716</td>\n",
       "      <td>1.096</td>\n",
       "      <td>1.731</td>\n",
       "      <td>-0.197</td>\n",
       "      <td>1.904</td>\n",
       "      <td>-0.265</td>\n",
       "      <td>...</td>\n",
       "      <td>-0.765</td>\n",
       "      <td>-0.735</td>\n",
       "      <td>-1.158</td>\n",
       "      <td>2.554</td>\n",
       "      <td>0.856</td>\n",
       "      <td>-1.506</td>\n",
       "      <td>0.462</td>\n",
       "      <td>-0.029</td>\n",
       "      <td>-1.932</td>\n",
       "      <td>-0.343</td>\n",
       "    </tr>\n",
       "    <tr>\n",
       "      <th>2</th>\n",
       "      <td>2</td>\n",
       "      <td>0.0</td>\n",
       "      <td>0.099</td>\n",
       "      <td>1.390</td>\n",
       "      <td>-0.732</td>\n",
       "      <td>-1.065</td>\n",
       "      <td>0.005</td>\n",
       "      <td>-0.081</td>\n",
       "      <td>-1.450</td>\n",
       "      <td>0.317</td>\n",
       "      <td>...</td>\n",
       "      <td>-1.311</td>\n",
       "      <td>0.799</td>\n",
       "      <td>-1.001</td>\n",
       "      <td>1.544</td>\n",
       "      <td>0.575</td>\n",
       "      <td>-0.309</td>\n",
       "      <td>-0.339</td>\n",
       "      <td>-0.148</td>\n",
       "      <td>-0.646</td>\n",
       "      <td>0.725</td>\n",
       "    </tr>\n",
       "    <tr>\n",
       "      <th>3</th>\n",
       "      <td>3</td>\n",
       "      <td>1.0</td>\n",
       "      <td>-0.989</td>\n",
       "      <td>-0.916</td>\n",
       "      <td>-1.343</td>\n",
       "      <td>0.145</td>\n",
       "      <td>0.543</td>\n",
       "      <td>0.636</td>\n",
       "      <td>1.127</td>\n",
       "      <td>0.189</td>\n",
       "      <td>...</td>\n",
       "      <td>-1.370</td>\n",
       "      <td>1.093</td>\n",
       "      <td>0.596</td>\n",
       "      <td>-0.589</td>\n",
       "      <td>-0.649</td>\n",
       "      <td>-0.163</td>\n",
       "      <td>-0.958</td>\n",
       "      <td>-1.081</td>\n",
       "      <td>0.805</td>\n",
       "      <td>3.401</td>\n",
       "    </tr>\n",
       "    <tr>\n",
       "      <th>4</th>\n",
       "      <td>4</td>\n",
       "      <td>0.0</td>\n",
       "      <td>0.811</td>\n",
       "      <td>-1.509</td>\n",
       "      <td>0.522</td>\n",
       "      <td>-0.360</td>\n",
       "      <td>-0.220</td>\n",
       "      <td>-0.959</td>\n",
       "      <td>0.334</td>\n",
       "      <td>-0.566</td>\n",
       "      <td>...</td>\n",
       "      <td>-0.178</td>\n",
       "      <td>0.718</td>\n",
       "      <td>-1.017</td>\n",
       "      <td>1.249</td>\n",
       "      <td>-0.596</td>\n",
       "      <td>-0.445</td>\n",
       "      <td>1.751</td>\n",
       "      <td>1.442</td>\n",
       "      <td>-0.393</td>\n",
       "      <td>-0.643</td>\n",
       "    </tr>\n",
       "  </tbody>\n",
       "</table>\n",
       "<p>5 rows × 302 columns</p>\n",
       "</div>"
      ],
      "text/plain": [
       "   id  target      0      1      2      3      4      5      6      7  ...    \\\n",
       "0   0     1.0 -1.067 -1.114 -0.616  0.376  1.090  0.467 -0.422  0.460  ...     \n",
       "1   1     0.0 -0.831  0.271  1.716  1.096  1.731 -0.197  1.904 -0.265  ...     \n",
       "2   2     0.0  0.099  1.390 -0.732 -1.065  0.005 -0.081 -1.450  0.317  ...     \n",
       "3   3     1.0 -0.989 -0.916 -1.343  0.145  0.543  0.636  1.127  0.189  ...     \n",
       "4   4     0.0  0.811 -1.509  0.522 -0.360 -0.220 -0.959  0.334 -0.566  ...     \n",
       "\n",
       "     290    291    292    293    294    295    296    297    298    299  \n",
       "0  0.220 -0.339  0.254 -0.179  0.352  0.125  0.347  0.436  0.958 -0.824  \n",
       "1 -0.765 -0.735 -1.158  2.554  0.856 -1.506  0.462 -0.029 -1.932 -0.343  \n",
       "2 -1.311  0.799 -1.001  1.544  0.575 -0.309 -0.339 -0.148 -0.646  0.725  \n",
       "3 -1.370  1.093  0.596 -0.589 -0.649 -0.163 -0.958 -1.081  0.805  3.401  \n",
       "4 -0.178  0.718 -1.017  1.249 -0.596 -0.445  1.751  1.442 -0.393 -0.643  \n",
       "\n",
       "[5 rows x 302 columns]"
      ]
     },
     "execution_count": 3,
     "metadata": {},
     "output_type": "execute_result"
    }
   ],
   "source": [
    "train.head()"
   ]
  },
  {
   "cell_type": "code",
   "execution_count": 4,
   "metadata": {},
   "outputs": [
    {
     "data": {
      "text/html": [
       "<div>\n",
       "<style scoped>\n",
       "    .dataframe tbody tr th:only-of-type {\n",
       "        vertical-align: middle;\n",
       "    }\n",
       "\n",
       "    .dataframe tbody tr th {\n",
       "        vertical-align: top;\n",
       "    }\n",
       "\n",
       "    .dataframe thead th {\n",
       "        text-align: right;\n",
       "    }\n",
       "</style>\n",
       "<table border=\"1\" class=\"dataframe\">\n",
       "  <thead>\n",
       "    <tr style=\"text-align: right;\">\n",
       "      <th></th>\n",
       "      <th>id</th>\n",
       "      <th>target</th>\n",
       "      <th>0</th>\n",
       "      <th>1</th>\n",
       "      <th>2</th>\n",
       "      <th>3</th>\n",
       "      <th>4</th>\n",
       "      <th>5</th>\n",
       "      <th>6</th>\n",
       "      <th>7</th>\n",
       "      <th>...</th>\n",
       "      <th>290</th>\n",
       "      <th>291</th>\n",
       "      <th>292</th>\n",
       "      <th>293</th>\n",
       "      <th>294</th>\n",
       "      <th>295</th>\n",
       "      <th>296</th>\n",
       "      <th>297</th>\n",
       "      <th>298</th>\n",
       "      <th>299</th>\n",
       "    </tr>\n",
       "  </thead>\n",
       "  <tbody>\n",
       "    <tr>\n",
       "      <th>count</th>\n",
       "      <td>250.000000</td>\n",
       "      <td>250.000000</td>\n",
       "      <td>250.000000</td>\n",
       "      <td>250.000000</td>\n",
       "      <td>250.000000</td>\n",
       "      <td>250.000000</td>\n",
       "      <td>250.000000</td>\n",
       "      <td>250.000000</td>\n",
       "      <td>250.000000</td>\n",
       "      <td>250.000000</td>\n",
       "      <td>...</td>\n",
       "      <td>250.000000</td>\n",
       "      <td>250.000000</td>\n",
       "      <td>250.000000</td>\n",
       "      <td>250.000000</td>\n",
       "      <td>250.000000</td>\n",
       "      <td>250.000000</td>\n",
       "      <td>250.000000</td>\n",
       "      <td>250.000000</td>\n",
       "      <td>250.000000</td>\n",
       "      <td>250.000000</td>\n",
       "    </tr>\n",
       "    <tr>\n",
       "      <th>mean</th>\n",
       "      <td>124.500000</td>\n",
       "      <td>0.268000</td>\n",
       "      <td>-0.098064</td>\n",
       "      <td>0.001208</td>\n",
       "      <td>0.090680</td>\n",
       "      <td>-0.122248</td>\n",
       "      <td>0.011500</td>\n",
       "      <td>-0.116624</td>\n",
       "      <td>0.006932</td>\n",
       "      <td>0.100988</td>\n",
       "      <td>...</td>\n",
       "      <td>0.013052</td>\n",
       "      <td>0.007500</td>\n",
       "      <td>0.000452</td>\n",
       "      <td>0.060276</td>\n",
       "      <td>-0.090308</td>\n",
       "      <td>-0.040728</td>\n",
       "      <td>-0.002132</td>\n",
       "      <td>-0.012540</td>\n",
       "      <td>-0.039904</td>\n",
       "      <td>0.073236</td>\n",
       "    </tr>\n",
       "    <tr>\n",
       "      <th>std</th>\n",
       "      <td>72.312977</td>\n",
       "      <td>0.443806</td>\n",
       "      <td>0.996063</td>\n",
       "      <td>0.955117</td>\n",
       "      <td>0.968065</td>\n",
       "      <td>0.933001</td>\n",
       "      <td>0.945662</td>\n",
       "      <td>1.081705</td>\n",
       "      <td>1.014091</td>\n",
       "      <td>1.028042</td>\n",
       "      <td>...</td>\n",
       "      <td>1.027845</td>\n",
       "      <td>1.048169</td>\n",
       "      <td>1.026398</td>\n",
       "      <td>1.048744</td>\n",
       "      <td>1.008657</td>\n",
       "      <td>1.051273</td>\n",
       "      <td>1.065524</td>\n",
       "      <td>0.958744</td>\n",
       "      <td>0.948251</td>\n",
       "      <td>0.924989</td>\n",
       "    </tr>\n",
       "    <tr>\n",
       "      <th>min</th>\n",
       "      <td>0.000000</td>\n",
       "      <td>0.000000</td>\n",
       "      <td>-3.181000</td>\n",
       "      <td>-3.041000</td>\n",
       "      <td>-2.967000</td>\n",
       "      <td>-2.898000</td>\n",
       "      <td>-2.837000</td>\n",
       "      <td>-3.831000</td>\n",
       "      <td>-2.873000</td>\n",
       "      <td>-2.489000</td>\n",
       "      <td>...</td>\n",
       "      <td>-2.824000</td>\n",
       "      <td>-2.971000</td>\n",
       "      <td>-3.592000</td>\n",
       "      <td>-3.071000</td>\n",
       "      <td>-2.621000</td>\n",
       "      <td>-3.013000</td>\n",
       "      <td>-3.275000</td>\n",
       "      <td>-2.665000</td>\n",
       "      <td>-3.006000</td>\n",
       "      <td>-2.471000</td>\n",
       "    </tr>\n",
       "    <tr>\n",
       "      <th>25%</th>\n",
       "      <td>62.250000</td>\n",
       "      <td>0.000000</td>\n",
       "      <td>-0.756250</td>\n",
       "      <td>-0.624750</td>\n",
       "      <td>-0.515750</td>\n",
       "      <td>-0.695500</td>\n",
       "      <td>-0.678000</td>\n",
       "      <td>-0.758500</td>\n",
       "      <td>-0.646250</td>\n",
       "      <td>-0.589000</td>\n",
       "      <td>...</td>\n",
       "      <td>-0.764000</td>\n",
       "      <td>-0.729250</td>\n",
       "      <td>-0.699750</td>\n",
       "      <td>-0.589000</td>\n",
       "      <td>-0.701000</td>\n",
       "      <td>-0.696750</td>\n",
       "      <td>-0.555750</td>\n",
       "      <td>-0.677500</td>\n",
       "      <td>-0.719750</td>\n",
       "      <td>-0.559000</td>\n",
       "    </tr>\n",
       "    <tr>\n",
       "      <th>50%</th>\n",
       "      <td>124.500000</td>\n",
       "      <td>0.000000</td>\n",
       "      <td>-0.064500</td>\n",
       "      <td>-0.008000</td>\n",
       "      <td>0.067500</td>\n",
       "      <td>-0.090000</td>\n",
       "      <td>0.028000</td>\n",
       "      <td>-0.073500</td>\n",
       "      <td>-0.076500</td>\n",
       "      <td>0.104500</td>\n",
       "      <td>...</td>\n",
       "      <td>0.017500</td>\n",
       "      <td>0.053000</td>\n",
       "      <td>0.029500</td>\n",
       "      <td>0.042500</td>\n",
       "      <td>-0.102000</td>\n",
       "      <td>-0.057000</td>\n",
       "      <td>0.094500</td>\n",
       "      <td>-0.025500</td>\n",
       "      <td>-0.027500</td>\n",
       "      <td>0.160500</td>\n",
       "    </tr>\n",
       "    <tr>\n",
       "      <th>75%</th>\n",
       "      <td>186.750000</td>\n",
       "      <td>1.000000</td>\n",
       "      <td>0.647750</td>\n",
       "      <td>0.493250</td>\n",
       "      <td>0.716000</td>\n",
       "      <td>0.436250</td>\n",
       "      <td>0.625250</td>\n",
       "      <td>0.554250</td>\n",
       "      <td>0.676500</td>\n",
       "      <td>0.717000</td>\n",
       "      <td>...</td>\n",
       "      <td>0.690500</td>\n",
       "      <td>0.665000</td>\n",
       "      <td>0.670750</td>\n",
       "      <td>0.713250</td>\n",
       "      <td>0.532250</td>\n",
       "      <td>0.727000</td>\n",
       "      <td>0.590000</td>\n",
       "      <td>0.671000</td>\n",
       "      <td>0.717000</td>\n",
       "      <td>0.711000</td>\n",
       "    </tr>\n",
       "    <tr>\n",
       "      <th>max</th>\n",
       "      <td>249.000000</td>\n",
       "      <td>1.000000</td>\n",
       "      <td>2.347000</td>\n",
       "      <td>3.138000</td>\n",
       "      <td>2.609000</td>\n",
       "      <td>2.590000</td>\n",
       "      <td>2.413000</td>\n",
       "      <td>2.687000</td>\n",
       "      <td>2.793000</td>\n",
       "      <td>3.766000</td>\n",
       "      <td>...</td>\n",
       "      <td>2.773000</td>\n",
       "      <td>2.701000</td>\n",
       "      <td>3.193000</td>\n",
       "      <td>4.280000</td>\n",
       "      <td>2.716000</td>\n",
       "      <td>3.074000</td>\n",
       "      <td>2.626000</td>\n",
       "      <td>2.388000</td>\n",
       "      <td>2.730000</td>\n",
       "      <td>3.401000</td>\n",
       "    </tr>\n",
       "  </tbody>\n",
       "</table>\n",
       "<p>8 rows × 302 columns</p>\n",
       "</div>"
      ],
      "text/plain": [
       "               id      target           0           1           2           3  \\\n",
       "count  250.000000  250.000000  250.000000  250.000000  250.000000  250.000000   \n",
       "mean   124.500000    0.268000   -0.098064    0.001208    0.090680   -0.122248   \n",
       "std     72.312977    0.443806    0.996063    0.955117    0.968065    0.933001   \n",
       "min      0.000000    0.000000   -3.181000   -3.041000   -2.967000   -2.898000   \n",
       "25%     62.250000    0.000000   -0.756250   -0.624750   -0.515750   -0.695500   \n",
       "50%    124.500000    0.000000   -0.064500   -0.008000    0.067500   -0.090000   \n",
       "75%    186.750000    1.000000    0.647750    0.493250    0.716000    0.436250   \n",
       "max    249.000000    1.000000    2.347000    3.138000    2.609000    2.590000   \n",
       "\n",
       "                4           5           6           7     ...             290  \\\n",
       "count  250.000000  250.000000  250.000000  250.000000     ...      250.000000   \n",
       "mean     0.011500   -0.116624    0.006932    0.100988     ...        0.013052   \n",
       "std      0.945662    1.081705    1.014091    1.028042     ...        1.027845   \n",
       "min     -2.837000   -3.831000   -2.873000   -2.489000     ...       -2.824000   \n",
       "25%     -0.678000   -0.758500   -0.646250   -0.589000     ...       -0.764000   \n",
       "50%      0.028000   -0.073500   -0.076500    0.104500     ...        0.017500   \n",
       "75%      0.625250    0.554250    0.676500    0.717000     ...        0.690500   \n",
       "max      2.413000    2.687000    2.793000    3.766000     ...        2.773000   \n",
       "\n",
       "              291         292         293         294         295         296  \\\n",
       "count  250.000000  250.000000  250.000000  250.000000  250.000000  250.000000   \n",
       "mean     0.007500    0.000452    0.060276   -0.090308   -0.040728   -0.002132   \n",
       "std      1.048169    1.026398    1.048744    1.008657    1.051273    1.065524   \n",
       "min     -2.971000   -3.592000   -3.071000   -2.621000   -3.013000   -3.275000   \n",
       "25%     -0.729250   -0.699750   -0.589000   -0.701000   -0.696750   -0.555750   \n",
       "50%      0.053000    0.029500    0.042500   -0.102000   -0.057000    0.094500   \n",
       "75%      0.665000    0.670750    0.713250    0.532250    0.727000    0.590000   \n",
       "max      2.701000    3.193000    4.280000    2.716000    3.074000    2.626000   \n",
       "\n",
       "              297         298         299  \n",
       "count  250.000000  250.000000  250.000000  \n",
       "mean    -0.012540   -0.039904    0.073236  \n",
       "std      0.958744    0.948251    0.924989  \n",
       "min     -2.665000   -3.006000   -2.471000  \n",
       "25%     -0.677500   -0.719750   -0.559000  \n",
       "50%     -0.025500   -0.027500    0.160500  \n",
       "75%      0.671000    0.717000    0.711000  \n",
       "max      2.388000    2.730000    3.401000  \n",
       "\n",
       "[8 rows x 302 columns]"
      ]
     },
     "execution_count": 4,
     "metadata": {},
     "output_type": "execute_result"
    }
   ],
   "source": [
    "train.describe()"
   ]
  },
  {
   "cell_type": "code",
   "execution_count": 5,
   "metadata": {},
   "outputs": [
    {
     "name": "stdout",
     "output_type": "stream",
     "text": [
      "<class 'pandas.core.frame.DataFrame'>\n",
      "RangeIndex: 250 entries, 0 to 249\n",
      "Columns: 302 entries, id to 299\n",
      "dtypes: float64(301), int64(1)\n",
      "memory usage: 589.9 KB\n"
     ]
    }
   ],
   "source": [
    "train.info()"
   ]
  },
  {
   "cell_type": "markdown",
   "metadata": {},
   "source": [
    "### checking any missing data"
   ]
  },
  {
   "cell_type": "code",
   "execution_count": 6,
   "metadata": {},
   "outputs": [
    {
     "data": {
      "text/plain": [
       "False"
      ]
     },
     "execution_count": 6,
     "metadata": {},
     "output_type": "execute_result"
    }
   ],
   "source": [
    "train.isnull().any().any()"
   ]
  },
  {
   "cell_type": "code",
   "execution_count": 7,
   "metadata": {},
   "outputs": [],
   "source": [
    "#train.skew()"
   ]
  },
  {
   "cell_type": "code",
   "execution_count": 8,
   "metadata": {},
   "outputs": [],
   "source": [
    "#train.corr()"
   ]
  },
  {
   "cell_type": "code",
   "execution_count": 9,
   "metadata": {},
   "outputs": [],
   "source": [
    "#import seaborn as sns\n",
    "#sns.heatmap(train.corr())"
   ]
  },
  {
   "cell_type": "markdown",
   "metadata": {},
   "source": [
    "### removing any column having standard deviation as zero"
   ]
  },
  {
   "cell_type": "code",
   "execution_count": 10,
   "metadata": {},
   "outputs": [
    {
     "data": {
      "text/plain": [
       "[]"
      ]
     },
     "execution_count": 10,
     "metadata": {},
     "output_type": "execute_result"
    }
   ],
   "source": [
    "remove_columns_std_zero = []\n",
    "\n",
    "for c in train.columns:\n",
    "    if train[c].std()==0:\n",
    "        remove_columns_std_zero.append(c)\n",
    "        \n",
    "remove_columns_std_zero"
   ]
  },
  {
   "cell_type": "code",
   "execution_count": 11,
   "metadata": {},
   "outputs": [
    {
     "data": {
      "text/plain": [
       "Index(['id', 'target', '0', '1', '2', '3', '4', '5', '6', '7',\n",
       "       ...\n",
       "       '290', '291', '292', '293', '294', '295', '296', '297', '298', '299'],\n",
       "      dtype='object', length=302)"
      ]
     },
     "execution_count": 11,
     "metadata": {},
     "output_type": "execute_result"
    }
   ],
   "source": [
    "train.columns"
   ]
  },
  {
   "cell_type": "markdown",
   "metadata": {},
   "source": [
    "#### Checking uniformity of the predicted column\n",
    "* About 27% of the data having '1'"
   ]
  },
  {
   "cell_type": "code",
   "execution_count": 12,
   "metadata": {},
   "outputs": [
    {
     "data": {
      "text/plain": [
       "0.0    183\n",
       "1.0     67\n",
       "Name: target, dtype: int64"
      ]
     },
     "execution_count": 12,
     "metadata": {},
     "output_type": "execute_result"
    }
   ],
   "source": [
    "train['target'].value_counts()"
   ]
  },
  {
   "cell_type": "code",
   "execution_count": 13,
   "metadata": {},
   "outputs": [],
   "source": [
    "train_data = train.drop(labels=['id'],axis=1)\n",
    "y = train.target\n",
    "train_data.drop('target',1,inplace=True)"
   ]
  },
  {
   "cell_type": "markdown",
   "metadata": {},
   "source": [
    "#### Standarizing the columns is very critical otherwise it will give you \"bad input shape\""
   ]
  },
  {
   "cell_type": "code",
   "execution_count": 14,
   "metadata": {},
   "outputs": [],
   "source": [
    "from sklearn.preprocessing import StandardScaler\n",
    "\n",
    "train_data_scaled = pd.DataFrame(StandardScaler().fit_transform(train_data), columns=train_data.columns)\n",
    "\n",
    "#print(train_data_scaled)"
   ]
  },
  {
   "cell_type": "markdown",
   "metadata": {},
   "source": [
    "## Modelling"
   ]
  },
  {
   "cell_type": "markdown",
   "metadata": {},
   "source": [
    "### Uses many algorithms but logistic Regression gives good accuracy"
   ]
  },
  {
   "cell_type": "code",
   "execution_count": 15,
   "metadata": {},
   "outputs": [
    {
     "data": {
      "text/plain": [
       "LogisticRegression(C=1.0, class_weight=None, dual=False, fit_intercept=True,\n",
       "          intercept_scaling=1, max_iter=100, multi_class='ovr', n_jobs=1,\n",
       "          penalty='l2', random_state=None, solver='liblinear', tol=0.0001,\n",
       "          verbose=0, warm_start=False)"
      ]
     },
     "execution_count": 15,
     "metadata": {},
     "output_type": "execute_result"
    }
   ],
   "source": [
    "from sklearn.linear_model import LogisticRegression\n",
    "\n",
    "lr = LogisticRegression()\n",
    "\n",
    "lr.fit(train_data_scaled, y)"
   ]
  },
  {
   "cell_type": "code",
   "execution_count": 16,
   "metadata": {},
   "outputs": [],
   "source": [
    "id= test.id\n",
    "test_data = test.drop('id',1)\n",
    "\n",
    "test_data_scaled = pd.DataFrame(StandardScaler().fit_transform(test_data),columns=test_data.columns)"
   ]
  },
  {
   "cell_type": "code",
   "execution_count": 17,
   "metadata": {},
   "outputs": [],
   "source": [
    "pred = lr.predict(test_data_scaled)"
   ]
  },
  {
   "cell_type": "code",
   "execution_count": 18,
   "metadata": {},
   "outputs": [],
   "source": [
    "s = pd.DataFrame(pred)"
   ]
  },
  {
   "cell_type": "code",
   "execution_count": 19,
   "metadata": {},
   "outputs": [],
   "source": [
    "s['id']=id"
   ]
  },
  {
   "cell_type": "code",
   "execution_count": 20,
   "metadata": {},
   "outputs": [],
   "source": [
    "s['target']=s[0]"
   ]
  },
  {
   "cell_type": "code",
   "execution_count": 21,
   "metadata": {},
   "outputs": [],
   "source": [
    "s.to_csv(\"Submission.csv\",index=False)"
   ]
  }
 ],
 "metadata": {
  "kernelspec": {
   "display_name": "Python 3",
   "language": "python",
   "name": "python3"
  },
  "language_info": {
   "codemirror_mode": {
    "name": "ipython",
    "version": 3
   },
   "file_extension": ".py",
   "mimetype": "text/x-python",
   "name": "python",
   "nbconvert_exporter": "python",
   "pygments_lexer": "ipython3",
   "version": "3.7.0"
  }
 },
 "nbformat": 4,
 "nbformat_minor": 2
}
